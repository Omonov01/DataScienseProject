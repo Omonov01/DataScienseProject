{
 "cells": [
  {
   "cell_type": "markdown",
   "id": "242ac5d8",
   "metadata": {},
   "source": [
    "Maqsad qandli ayollar ortasida diabet bor yo'qligini taxmin qilish"
   ]
  },
  {
   "cell_type": "code",
   "execution_count": 1,
   "id": "b9336198",
   "metadata": {},
   "outputs": [],
   "source": [
    "import numpy as np\n",
    "import pandas as pd\n",
    "import matplotlib.pyplot as plt\n",
    "%matplotlib inline\n",
    "import seaborn as sns"
   ]
  },
  {
   "cell_type": "code",
   "execution_count": 2,
   "id": "3d1d401d",
   "metadata": {},
   "outputs": [
    {
     "data": {
      "text/html": [
       "<div>\n",
       "<style scoped>\n",
       "    .dataframe tbody tr th:only-of-type {\n",
       "        vertical-align: middle;\n",
       "    }\n",
       "\n",
       "    .dataframe tbody tr th {\n",
       "        vertical-align: top;\n",
       "    }\n",
       "\n",
       "    .dataframe thead th {\n",
       "        text-align: right;\n",
       "    }\n",
       "</style>\n",
       "<table border=\"1\" class=\"dataframe\">\n",
       "  <thead>\n",
       "    <tr style=\"text-align: right;\">\n",
       "      <th></th>\n",
       "      <th>Pregnancies</th>\n",
       "      <th>Glucose</th>\n",
       "      <th>BloodPressure</th>\n",
       "      <th>SkinThickness</th>\n",
       "      <th>Insulin</th>\n",
       "      <th>BMI</th>\n",
       "      <th>DiabetesPedigreeFunction</th>\n",
       "      <th>Age</th>\n",
       "      <th>Outcome</th>\n",
       "    </tr>\n",
       "  </thead>\n",
       "  <tbody>\n",
       "    <tr>\n",
       "      <th>0</th>\n",
       "      <td>6</td>\n",
       "      <td>148</td>\n",
       "      <td>72</td>\n",
       "      <td>35</td>\n",
       "      <td>0</td>\n",
       "      <td>33.6</td>\n",
       "      <td>0.627</td>\n",
       "      <td>50</td>\n",
       "      <td>1</td>\n",
       "    </tr>\n",
       "    <tr>\n",
       "      <th>1</th>\n",
       "      <td>1</td>\n",
       "      <td>85</td>\n",
       "      <td>66</td>\n",
       "      <td>29</td>\n",
       "      <td>0</td>\n",
       "      <td>26.6</td>\n",
       "      <td>0.351</td>\n",
       "      <td>31</td>\n",
       "      <td>0</td>\n",
       "    </tr>\n",
       "    <tr>\n",
       "      <th>2</th>\n",
       "      <td>8</td>\n",
       "      <td>183</td>\n",
       "      <td>64</td>\n",
       "      <td>0</td>\n",
       "      <td>0</td>\n",
       "      <td>23.3</td>\n",
       "      <td>0.672</td>\n",
       "      <td>32</td>\n",
       "      <td>1</td>\n",
       "    </tr>\n",
       "    <tr>\n",
       "      <th>3</th>\n",
       "      <td>1</td>\n",
       "      <td>89</td>\n",
       "      <td>66</td>\n",
       "      <td>23</td>\n",
       "      <td>94</td>\n",
       "      <td>28.1</td>\n",
       "      <td>0.167</td>\n",
       "      <td>21</td>\n",
       "      <td>0</td>\n",
       "    </tr>\n",
       "    <tr>\n",
       "      <th>4</th>\n",
       "      <td>0</td>\n",
       "      <td>137</td>\n",
       "      <td>40</td>\n",
       "      <td>35</td>\n",
       "      <td>168</td>\n",
       "      <td>43.1</td>\n",
       "      <td>2.288</td>\n",
       "      <td>33</td>\n",
       "      <td>1</td>\n",
       "    </tr>\n",
       "    <tr>\n",
       "      <th>...</th>\n",
       "      <td>...</td>\n",
       "      <td>...</td>\n",
       "      <td>...</td>\n",
       "      <td>...</td>\n",
       "      <td>...</td>\n",
       "      <td>...</td>\n",
       "      <td>...</td>\n",
       "      <td>...</td>\n",
       "      <td>...</td>\n",
       "    </tr>\n",
       "    <tr>\n",
       "      <th>763</th>\n",
       "      <td>10</td>\n",
       "      <td>101</td>\n",
       "      <td>76</td>\n",
       "      <td>48</td>\n",
       "      <td>180</td>\n",
       "      <td>32.9</td>\n",
       "      <td>0.171</td>\n",
       "      <td>63</td>\n",
       "      <td>0</td>\n",
       "    </tr>\n",
       "    <tr>\n",
       "      <th>764</th>\n",
       "      <td>2</td>\n",
       "      <td>122</td>\n",
       "      <td>70</td>\n",
       "      <td>27</td>\n",
       "      <td>0</td>\n",
       "      <td>36.8</td>\n",
       "      <td>0.340</td>\n",
       "      <td>27</td>\n",
       "      <td>0</td>\n",
       "    </tr>\n",
       "    <tr>\n",
       "      <th>765</th>\n",
       "      <td>5</td>\n",
       "      <td>121</td>\n",
       "      <td>72</td>\n",
       "      <td>23</td>\n",
       "      <td>112</td>\n",
       "      <td>26.2</td>\n",
       "      <td>0.245</td>\n",
       "      <td>30</td>\n",
       "      <td>0</td>\n",
       "    </tr>\n",
       "    <tr>\n",
       "      <th>766</th>\n",
       "      <td>1</td>\n",
       "      <td>126</td>\n",
       "      <td>60</td>\n",
       "      <td>0</td>\n",
       "      <td>0</td>\n",
       "      <td>30.1</td>\n",
       "      <td>0.349</td>\n",
       "      <td>47</td>\n",
       "      <td>1</td>\n",
       "    </tr>\n",
       "    <tr>\n",
       "      <th>767</th>\n",
       "      <td>1</td>\n",
       "      <td>93</td>\n",
       "      <td>70</td>\n",
       "      <td>31</td>\n",
       "      <td>0</td>\n",
       "      <td>30.4</td>\n",
       "      <td>0.315</td>\n",
       "      <td>23</td>\n",
       "      <td>0</td>\n",
       "    </tr>\n",
       "  </tbody>\n",
       "</table>\n",
       "<p>768 rows × 9 columns</p>\n",
       "</div>"
      ],
      "text/plain": [
       "     Pregnancies  Glucose  BloodPressure  SkinThickness  Insulin   BMI  \\\n",
       "0              6      148             72             35        0  33.6   \n",
       "1              1       85             66             29        0  26.6   \n",
       "2              8      183             64              0        0  23.3   \n",
       "3              1       89             66             23       94  28.1   \n",
       "4              0      137             40             35      168  43.1   \n",
       "..           ...      ...            ...            ...      ...   ...   \n",
       "763           10      101             76             48      180  32.9   \n",
       "764            2      122             70             27        0  36.8   \n",
       "765            5      121             72             23      112  26.2   \n",
       "766            1      126             60              0        0  30.1   \n",
       "767            1       93             70             31        0  30.4   \n",
       "\n",
       "     DiabetesPedigreeFunction  Age  Outcome  \n",
       "0                       0.627   50        1  \n",
       "1                       0.351   31        0  \n",
       "2                       0.672   32        1  \n",
       "3                       0.167   21        0  \n",
       "4                       2.288   33        1  \n",
       "..                        ...  ...      ...  \n",
       "763                     0.171   63        0  \n",
       "764                     0.340   27        0  \n",
       "765                     0.245   30        0  \n",
       "766                     0.349   47        1  \n",
       "767                     0.315   23        0  \n",
       "\n",
       "[768 rows x 9 columns]"
      ]
     },
     "execution_count": 2,
     "metadata": {},
     "output_type": "execute_result"
    }
   ],
   "source": [
    "data = pd.read_csv(\"C:/Users/Sanjar/Downloads/praktikum_datasets-main/diabetes.csv\")\n",
    "data"
   ]
  },
  {
   "cell_type": "code",
   "execution_count": 3,
   "id": "baca9152",
   "metadata": {},
   "outputs": [
    {
     "name": "stdout",
     "output_type": "stream",
     "text": [
      "<class 'pandas.core.frame.DataFrame'>\n",
      "RangeIndex: 768 entries, 0 to 767\n",
      "Data columns (total 9 columns):\n",
      " #   Column                    Non-Null Count  Dtype  \n",
      "---  ------                    --------------  -----  \n",
      " 0   Pregnancies               768 non-null    int64  \n",
      " 1   Glucose                   768 non-null    int64  \n",
      " 2   BloodPressure             768 non-null    int64  \n",
      " 3   SkinThickness             768 non-null    int64  \n",
      " 4   Insulin                   768 non-null    int64  \n",
      " 5   BMI                       768 non-null    float64\n",
      " 6   DiabetesPedigreeFunction  768 non-null    float64\n",
      " 7   Age                       768 non-null    int64  \n",
      " 8   Outcome                   768 non-null    int64  \n",
      "dtypes: float64(2), int64(7)\n",
      "memory usage: 54.1 KB\n"
     ]
    }
   ],
   "source": [
    "# data.shape\n",
    "# data.size\n",
    "data.info()"
   ]
  },
  {
   "cell_type": "code",
   "execution_count": 4,
   "id": "69c2c39d",
   "metadata": {},
   "outputs": [
    {
     "data": {
      "text/plain": [
       "0    500\n",
       "1    268\n",
       "Name: Outcome, dtype: int64"
      ]
     },
     "execution_count": 4,
     "metadata": {},
     "output_type": "execute_result"
    }
   ],
   "source": [
    "data[\"Outcome\"].value_counts()"
   ]
  },
  {
   "cell_type": "code",
   "execution_count": 5,
   "id": "1f8af537",
   "metadata": {},
   "outputs": [
    {
     "data": {
      "text/html": [
       "<style type=\"text/css\">\n",
       "#T_98227_row0_col0, #T_98227_row1_col1, #T_98227_row2_col2, #T_98227_row3_col3, #T_98227_row4_col4, #T_98227_row5_col5, #T_98227_row6_col6, #T_98227_row7_col7, #T_98227_row8_col8 {\n",
       "  background-color: #b40426;\n",
       "  color: #f1f1f1;\n",
       "}\n",
       "#T_98227_row0_col1 {\n",
       "  background-color: #516ddb;\n",
       "  color: #f1f1f1;\n",
       "}\n",
       "#T_98227_row0_col2 {\n",
       "  background-color: #5a78e4;\n",
       "  color: #f1f1f1;\n",
       "}\n",
       "#T_98227_row0_col3, #T_98227_row8_col2 {\n",
       "  background-color: #4257c9;\n",
       "  color: #f1f1f1;\n",
       "}\n",
       "#T_98227_row0_col4 {\n",
       "  background-color: #445acc;\n",
       "  color: #f1f1f1;\n",
       "}\n",
       "#T_98227_row0_col5, #T_98227_row0_col6, #T_98227_row1_col3, #T_98227_row2_col8, #T_98227_row3_col1, #T_98227_row5_col0, #T_98227_row5_col7, #T_98227_row6_col2, #T_98227_row6_col7, #T_98227_row7_col4, #T_98227_row7_col6 {\n",
       "  background-color: #3b4cc0;\n",
       "  color: #f1f1f1;\n",
       "}\n",
       "#T_98227_row0_col7 {\n",
       "  background-color: #e4d9d2;\n",
       "  color: #000000;\n",
       "}\n",
       "#T_98227_row0_col8 {\n",
       "  background-color: #6f92f3;\n",
       "  color: #f1f1f1;\n",
       "}\n",
       "#T_98227_row1_col0, #T_98227_row1_col2, #T_98227_row6_col8 {\n",
       "  background-color: #5e7de7;\n",
       "  color: #f1f1f1;\n",
       "}\n",
       "#T_98227_row1_col4 {\n",
       "  background-color: #9fbfff;\n",
       "  color: #000000;\n",
       "}\n",
       "#T_98227_row1_col5, #T_98227_row8_col0 {\n",
       "  background-color: #7ea1fa;\n",
       "  color: #f1f1f1;\n",
       "}\n",
       "#T_98227_row1_col6 {\n",
       "  background-color: #5b7ae5;\n",
       "  color: #f1f1f1;\n",
       "}\n",
       "#T_98227_row1_col7 {\n",
       "  background-color: #88abfd;\n",
       "  color: #000000;\n",
       "}\n",
       "#T_98227_row1_col8 {\n",
       "  background-color: #c9d7f0;\n",
       "  color: #000000;\n",
       "}\n",
       "#T_98227_row2_col0, #T_98227_row6_col5 {\n",
       "  background-color: #6282ea;\n",
       "  color: #f1f1f1;\n",
       "}\n",
       "#T_98227_row2_col1 {\n",
       "  background-color: #5977e3;\n",
       "  color: #f1f1f1;\n",
       "}\n",
       "#T_98227_row2_col3, #T_98227_row4_col6 {\n",
       "  background-color: #6c8ff1;\n",
       "  color: #f1f1f1;\n",
       "}\n",
       "#T_98227_row2_col4, #T_98227_row4_col2 {\n",
       "  background-color: #4961d2;\n",
       "  color: #f1f1f1;\n",
       "}\n",
       "#T_98227_row2_col5 {\n",
       "  background-color: #93b5fe;\n",
       "  color: #000000;\n",
       "}\n",
       "#T_98227_row2_col6, #T_98227_row3_col8, #T_98227_row4_col7 {\n",
       "  background-color: #3d50c3;\n",
       "  color: #f1f1f1;\n",
       "}\n",
       "#T_98227_row2_col7, #T_98227_row8_col7 {\n",
       "  background-color: #80a3fa;\n",
       "  color: #f1f1f1;\n",
       "}\n",
       "#T_98227_row3_col0 {\n",
       "  background-color: #4e68d8;\n",
       "  color: #f1f1f1;\n",
       "}\n",
       "#T_98227_row3_col2, #T_98227_row5_col1 {\n",
       "  background-color: #7295f4;\n",
       "  color: #f1f1f1;\n",
       "}\n",
       "#T_98227_row3_col4 {\n",
       "  background-color: #c4d5f3;\n",
       "  color: #000000;\n",
       "}\n",
       "#T_98227_row3_col5 {\n",
       "  background-color: #bad0f8;\n",
       "  color: #000000;\n",
       "}\n",
       "#T_98227_row3_col6 {\n",
       "  background-color: #6b8df0;\n",
       "  color: #f1f1f1;\n",
       "}\n",
       "#T_98227_row3_col7, #T_98227_row6_col1 {\n",
       "  background-color: #5470de;\n",
       "  color: #f1f1f1;\n",
       "}\n",
       "#T_98227_row4_col0 {\n",
       "  background-color: #4b64d5;\n",
       "  color: #f1f1f1;\n",
       "}\n",
       "#T_98227_row4_col1 {\n",
       "  background-color: #9bbcff;\n",
       "  color: #000000;\n",
       "}\n",
       "#T_98227_row4_col3 {\n",
       "  background-color: #c1d4f4;\n",
       "  color: #000000;\n",
       "}\n",
       "#T_98227_row4_col5 {\n",
       "  background-color: #7597f6;\n",
       "  color: #f1f1f1;\n",
       "}\n",
       "#T_98227_row4_col8 {\n",
       "  background-color: #4f69d9;\n",
       "  color: #f1f1f1;\n",
       "}\n",
       "#T_98227_row5_col2 {\n",
       "  background-color: #8db0fe;\n",
       "  color: #000000;\n",
       "}\n",
       "#T_98227_row5_col3 {\n",
       "  background-color: #b2ccfb;\n",
       "  color: #000000;\n",
       "}\n",
       "#T_98227_row5_col4 {\n",
       "  background-color: #6e90f2;\n",
       "  color: #f1f1f1;\n",
       "}\n",
       "#T_98227_row5_col6 {\n",
       "  background-color: #5d7ce6;\n",
       "  color: #f1f1f1;\n",
       "}\n",
       "#T_98227_row5_col8 {\n",
       "  background-color: #8badfd;\n",
       "  color: #000000;\n",
       "}\n",
       "#T_98227_row6_col0, #T_98227_row7_col5, #T_98227_row8_col3 {\n",
       "  background-color: #3f53c6;\n",
       "  color: #f1f1f1;\n",
       "}\n",
       "#T_98227_row6_col3 {\n",
       "  background-color: #6485ec;\n",
       "  color: #f1f1f1;\n",
       "}\n",
       "#T_98227_row6_col4 {\n",
       "  background-color: #6a8bef;\n",
       "  color: #f1f1f1;\n",
       "}\n",
       "#T_98227_row7_col0 {\n",
       "  background-color: #e6d7cf;\n",
       "  color: #000000;\n",
       "}\n",
       "#T_98227_row7_col1 {\n",
       "  background-color: #81a4fb;\n",
       "  color: #f1f1f1;\n",
       "}\n",
       "#T_98227_row7_col2 {\n",
       "  background-color: #7da0f9;\n",
       "  color: #f1f1f1;\n",
       "}\n",
       "#T_98227_row7_col3 {\n",
       "  background-color: #4c66d6;\n",
       "  color: #f1f1f1;\n",
       "}\n",
       "#T_98227_row7_col8 {\n",
       "  background-color: #7699f6;\n",
       "  color: #f1f1f1;\n",
       "}\n",
       "#T_98227_row8_col1 {\n",
       "  background-color: #cbd8ee;\n",
       "  color: #000000;\n",
       "}\n",
       "#T_98227_row8_col4 {\n",
       "  background-color: #5673e0;\n",
       "  color: #f1f1f1;\n",
       "}\n",
       "#T_98227_row8_col5 {\n",
       "  background-color: #97b8ff;\n",
       "  color: #000000;\n",
       "}\n",
       "#T_98227_row8_col6 {\n",
       "  background-color: #688aef;\n",
       "  color: #f1f1f1;\n",
       "}\n",
       "</style>\n",
       "<table id=\"T_98227_\">\n",
       "  <thead>\n",
       "    <tr>\n",
       "      <th class=\"blank level0\" >&nbsp;</th>\n",
       "      <th class=\"col_heading level0 col0\" >Pregnancies</th>\n",
       "      <th class=\"col_heading level0 col1\" >Glucose</th>\n",
       "      <th class=\"col_heading level0 col2\" >BloodPressure</th>\n",
       "      <th class=\"col_heading level0 col3\" >SkinThickness</th>\n",
       "      <th class=\"col_heading level0 col4\" >Insulin</th>\n",
       "      <th class=\"col_heading level0 col5\" >BMI</th>\n",
       "      <th class=\"col_heading level0 col6\" >DiabetesPedigreeFunction</th>\n",
       "      <th class=\"col_heading level0 col7\" >Age</th>\n",
       "      <th class=\"col_heading level0 col8\" >Outcome</th>\n",
       "    </tr>\n",
       "  </thead>\n",
       "  <tbody>\n",
       "    <tr>\n",
       "      <th id=\"T_98227_level0_row0\" class=\"row_heading level0 row0\" >Pregnancies</th>\n",
       "      <td id=\"T_98227_row0_col0\" class=\"data row0 col0\" >1.000000</td>\n",
       "      <td id=\"T_98227_row0_col1\" class=\"data row0 col1\" >0.129459</td>\n",
       "      <td id=\"T_98227_row0_col2\" class=\"data row0 col2\" >0.141282</td>\n",
       "      <td id=\"T_98227_row0_col3\" class=\"data row0 col3\" >0.081672</td>\n",
       "      <td id=\"T_98227_row0_col4\" class=\"data row0 col4\" >0.073535</td>\n",
       "      <td id=\"T_98227_row0_col5\" class=\"data row0 col5\" >0.017683</td>\n",
       "      <td id=\"T_98227_row0_col6\" class=\"data row0 col6\" >0.033523</td>\n",
       "      <td id=\"T_98227_row0_col7\" class=\"data row0 col7\" >0.544341</td>\n",
       "      <td id=\"T_98227_row0_col8\" class=\"data row0 col8\" >0.221898</td>\n",
       "    </tr>\n",
       "    <tr>\n",
       "      <th id=\"T_98227_level0_row1\" class=\"row_heading level0 row1\" >Glucose</th>\n",
       "      <td id=\"T_98227_row1_col0\" class=\"data row1 col0\" >0.129459</td>\n",
       "      <td id=\"T_98227_row1_col1\" class=\"data row1 col1\" >1.000000</td>\n",
       "      <td id=\"T_98227_row1_col2\" class=\"data row1 col2\" >0.152590</td>\n",
       "      <td id=\"T_98227_row1_col3\" class=\"data row1 col3\" >0.057328</td>\n",
       "      <td id=\"T_98227_row1_col4\" class=\"data row1 col4\" >0.331357</td>\n",
       "      <td id=\"T_98227_row1_col5\" class=\"data row1 col5\" >0.221071</td>\n",
       "      <td id=\"T_98227_row1_col6\" class=\"data row1 col6\" >0.137337</td>\n",
       "      <td id=\"T_98227_row1_col7\" class=\"data row1 col7\" >0.263514</td>\n",
       "      <td id=\"T_98227_row1_col8\" class=\"data row1 col8\" >0.466581</td>\n",
       "    </tr>\n",
       "    <tr>\n",
       "      <th id=\"T_98227_level0_row2\" class=\"row_heading level0 row2\" >BloodPressure</th>\n",
       "      <td id=\"T_98227_row2_col0\" class=\"data row2 col0\" >0.141282</td>\n",
       "      <td id=\"T_98227_row2_col1\" class=\"data row2 col1\" >0.152590</td>\n",
       "      <td id=\"T_98227_row2_col2\" class=\"data row2 col2\" >1.000000</td>\n",
       "      <td id=\"T_98227_row2_col3\" class=\"data row2 col3\" >0.207371</td>\n",
       "      <td id=\"T_98227_row2_col4\" class=\"data row2 col4\" >0.088933</td>\n",
       "      <td id=\"T_98227_row2_col5\" class=\"data row2 col5\" >0.281805</td>\n",
       "      <td id=\"T_98227_row2_col6\" class=\"data row2 col6\" >0.041265</td>\n",
       "      <td id=\"T_98227_row2_col7\" class=\"data row2 col7\" >0.239528</td>\n",
       "      <td id=\"T_98227_row2_col8\" class=\"data row2 col8\" >0.065068</td>\n",
       "    </tr>\n",
       "    <tr>\n",
       "      <th id=\"T_98227_level0_row3\" class=\"row_heading level0 row3\" >SkinThickness</th>\n",
       "      <td id=\"T_98227_row3_col0\" class=\"data row3 col0\" >0.081672</td>\n",
       "      <td id=\"T_98227_row3_col1\" class=\"data row3 col1\" >0.057328</td>\n",
       "      <td id=\"T_98227_row3_col2\" class=\"data row3 col2\" >0.207371</td>\n",
       "      <td id=\"T_98227_row3_col3\" class=\"data row3 col3\" >1.000000</td>\n",
       "      <td id=\"T_98227_row3_col4\" class=\"data row3 col4\" >0.436783</td>\n",
       "      <td id=\"T_98227_row3_col5\" class=\"data row3 col5\" >0.392573</td>\n",
       "      <td id=\"T_98227_row3_col6\" class=\"data row3 col6\" >0.183928</td>\n",
       "      <td id=\"T_98227_row3_col7\" class=\"data row3 col7\" >0.113970</td>\n",
       "      <td id=\"T_98227_row3_col8\" class=\"data row3 col8\" >0.074752</td>\n",
       "    </tr>\n",
       "    <tr>\n",
       "      <th id=\"T_98227_level0_row4\" class=\"row_heading level0 row4\" >Insulin</th>\n",
       "      <td id=\"T_98227_row4_col0\" class=\"data row4 col0\" >0.073535</td>\n",
       "      <td id=\"T_98227_row4_col1\" class=\"data row4 col1\" >0.331357</td>\n",
       "      <td id=\"T_98227_row4_col2\" class=\"data row4 col2\" >0.088933</td>\n",
       "      <td id=\"T_98227_row4_col3\" class=\"data row4 col3\" >0.436783</td>\n",
       "      <td id=\"T_98227_row4_col4\" class=\"data row4 col4\" >1.000000</td>\n",
       "      <td id=\"T_98227_row4_col5\" class=\"data row4 col5\" >0.197859</td>\n",
       "      <td id=\"T_98227_row4_col6\" class=\"data row4 col6\" >0.185071</td>\n",
       "      <td id=\"T_98227_row4_col7\" class=\"data row4 col7\" >0.042163</td>\n",
       "      <td id=\"T_98227_row4_col8\" class=\"data row4 col8\" >0.130548</td>\n",
       "    </tr>\n",
       "    <tr>\n",
       "      <th id=\"T_98227_level0_row5\" class=\"row_heading level0 row5\" >BMI</th>\n",
       "      <td id=\"T_98227_row5_col0\" class=\"data row5 col0\" >0.017683</td>\n",
       "      <td id=\"T_98227_row5_col1\" class=\"data row5 col1\" >0.221071</td>\n",
       "      <td id=\"T_98227_row5_col2\" class=\"data row5 col2\" >0.281805</td>\n",
       "      <td id=\"T_98227_row5_col3\" class=\"data row5 col3\" >0.392573</td>\n",
       "      <td id=\"T_98227_row5_col4\" class=\"data row5 col4\" >0.197859</td>\n",
       "      <td id=\"T_98227_row5_col5\" class=\"data row5 col5\" >1.000000</td>\n",
       "      <td id=\"T_98227_row5_col6\" class=\"data row5 col6\" >0.140647</td>\n",
       "      <td id=\"T_98227_row5_col7\" class=\"data row5 col7\" >0.036242</td>\n",
       "      <td id=\"T_98227_row5_col8\" class=\"data row5 col8\" >0.292695</td>\n",
       "    </tr>\n",
       "    <tr>\n",
       "      <th id=\"T_98227_level0_row6\" class=\"row_heading level0 row6\" >DiabetesPedigreeFunction</th>\n",
       "      <td id=\"T_98227_row6_col0\" class=\"data row6 col0\" >0.033523</td>\n",
       "      <td id=\"T_98227_row6_col1\" class=\"data row6 col1\" >0.137337</td>\n",
       "      <td id=\"T_98227_row6_col2\" class=\"data row6 col2\" >0.041265</td>\n",
       "      <td id=\"T_98227_row6_col3\" class=\"data row6 col3\" >0.183928</td>\n",
       "      <td id=\"T_98227_row6_col4\" class=\"data row6 col4\" >0.185071</td>\n",
       "      <td id=\"T_98227_row6_col5\" class=\"data row6 col5\" >0.140647</td>\n",
       "      <td id=\"T_98227_row6_col6\" class=\"data row6 col6\" >1.000000</td>\n",
       "      <td id=\"T_98227_row6_col7\" class=\"data row6 col7\" >0.033561</td>\n",
       "      <td id=\"T_98227_row6_col8\" class=\"data row6 col8\" >0.173844</td>\n",
       "    </tr>\n",
       "    <tr>\n",
       "      <th id=\"T_98227_level0_row7\" class=\"row_heading level0 row7\" >Age</th>\n",
       "      <td id=\"T_98227_row7_col0\" class=\"data row7 col0\" >0.544341</td>\n",
       "      <td id=\"T_98227_row7_col1\" class=\"data row7 col1\" >0.263514</td>\n",
       "      <td id=\"T_98227_row7_col2\" class=\"data row7 col2\" >0.239528</td>\n",
       "      <td id=\"T_98227_row7_col3\" class=\"data row7 col3\" >0.113970</td>\n",
       "      <td id=\"T_98227_row7_col4\" class=\"data row7 col4\" >0.042163</td>\n",
       "      <td id=\"T_98227_row7_col5\" class=\"data row7 col5\" >0.036242</td>\n",
       "      <td id=\"T_98227_row7_col6\" class=\"data row7 col6\" >0.033561</td>\n",
       "      <td id=\"T_98227_row7_col7\" class=\"data row7 col7\" >1.000000</td>\n",
       "      <td id=\"T_98227_row7_col8\" class=\"data row7 col8\" >0.238356</td>\n",
       "    </tr>\n",
       "    <tr>\n",
       "      <th id=\"T_98227_level0_row8\" class=\"row_heading level0 row8\" >Outcome</th>\n",
       "      <td id=\"T_98227_row8_col0\" class=\"data row8 col0\" >0.221898</td>\n",
       "      <td id=\"T_98227_row8_col1\" class=\"data row8 col1\" >0.466581</td>\n",
       "      <td id=\"T_98227_row8_col2\" class=\"data row8 col2\" >0.065068</td>\n",
       "      <td id=\"T_98227_row8_col3\" class=\"data row8 col3\" >0.074752</td>\n",
       "      <td id=\"T_98227_row8_col4\" class=\"data row8 col4\" >0.130548</td>\n",
       "      <td id=\"T_98227_row8_col5\" class=\"data row8 col5\" >0.292695</td>\n",
       "      <td id=\"T_98227_row8_col6\" class=\"data row8 col6\" >0.173844</td>\n",
       "      <td id=\"T_98227_row8_col7\" class=\"data row8 col7\" >0.238356</td>\n",
       "      <td id=\"T_98227_row8_col8\" class=\"data row8 col8\" >1.000000</td>\n",
       "    </tr>\n",
       "  </tbody>\n",
       "</table>\n"
      ],
      "text/plain": [
       "<pandas.io.formats.style.Styler at 0x25b58cdba60>"
      ]
     },
     "execution_count": 5,
     "metadata": {},
     "output_type": "execute_result"
    }
   ],
   "source": [
    "corr = data.corr().abs()\n",
    "corr.style.background_gradient(cmap=\"coolwarm\")"
   ]
  },
  {
   "cell_type": "markdown",
   "id": "ff7cbc85",
   "metadata": {},
   "source": [
    "kasallanish darajasiga eng katta bog'liqlik glucose, Age,pregnancies va BMI ustunlari ekan"
   ]
  },
  {
   "cell_type": "code",
   "execution_count": 6,
   "id": "e673d2c9",
   "metadata": {},
   "outputs": [
    {
     "data": {
      "text/plain": [
       "Outcome                     1.000000\n",
       "Glucose                     0.466581\n",
       "BMI                         0.292695\n",
       "Age                         0.238356\n",
       "Pregnancies                 0.221898\n",
       "DiabetesPedigreeFunction    0.173844\n",
       "Insulin                     0.130548\n",
       "SkinThickness               0.074752\n",
       "BloodPressure               0.065068\n",
       "dtype: float64"
      ]
     },
     "execution_count": 6,
     "metadata": {},
     "output_type": "execute_result"
    }
   ],
   "source": [
    "data.corrwith(data[\"Outcome\"]).abs().sort_values(ascending=False)"
   ]
  },
  {
   "cell_type": "code",
   "execution_count": 7,
   "id": "45857d0a",
   "metadata": {},
   "outputs": [],
   "source": [
    "col = [\"DiabetesPedigreeFunction\",\"Insulin\",\"SkinThickness\",\"BloodPressure\"]\n",
    "df = data.drop(col,axis=1)"
   ]
  },
  {
   "cell_type": "code",
   "execution_count": 8,
   "id": "977d6462",
   "metadata": {},
   "outputs": [],
   "source": [
    "X = df.drop(\"Outcome\",axis=1).values\n",
    "y = df[\"Outcome\"]"
   ]
  },
  {
   "cell_type": "code",
   "execution_count": 9,
   "id": "c14fd592",
   "metadata": {},
   "outputs": [],
   "source": [
    "from sklearn.preprocessing import StandardScaler\n",
    "S_scaler = StandardScaler()\n",
    "\n",
    "X = S_scaler.fit_transform(X)\n"
   ]
  },
  {
   "cell_type": "code",
   "execution_count": 10,
   "id": "1476d5d1",
   "metadata": {},
   "outputs": [],
   "source": [
    "from sklearn.model_selection import train_test_split\n",
    "\n",
    "X_train, X_test, y_train, y_test = train_test_split(X,y, test_size=0.2, random_state=12)"
   ]
  },
  {
   "cell_type": "code",
   "execution_count": 47,
   "id": "14a48b21",
   "metadata": {},
   "outputs": [
    {
     "data": {
      "text/plain": [
       "KNeighborsClassifier(n_neighbors=21)"
      ]
     },
     "execution_count": 47,
     "metadata": {},
     "output_type": "execute_result"
    }
   ],
   "source": [
    "from sklearn.neighbors import KNeighborsClassifier\n",
    "knn = KNeighborsClassifier(n_neighbors=21) # k-ni qiymati\n",
    "\n",
    "knn.fit(X_train, y_train)"
   ]
  },
  {
   "cell_type": "markdown",
   "id": "a674f395",
   "metadata": {},
   "source": [
    "eng yaxshi k qiymatni topish"
   ]
  },
  {
   "cell_type": "code",
   "execution_count": 48,
   "id": "ad5ba317",
   "metadata": {},
   "outputs": [],
   "source": [
    "y_predict = knn.predict(X_test)"
   ]
  },
  {
   "cell_type": "code",
   "execution_count": 49,
   "id": "dc16f727",
   "metadata": {},
   "outputs": [
    {
     "data": {
      "text/plain": [
       "0.546875"
      ]
     },
     "execution_count": 49,
     "metadata": {},
     "output_type": "execute_result"
    }
   ],
   "source": [
    "from sklearn.metrics import jaccard_score\n",
    "jaccard_score(y_test,y_predict)\n"
   ]
  },
  {
   "cell_type": "code",
   "execution_count": 50,
   "id": "187749c1",
   "metadata": {},
   "outputs": [
    {
     "data": {
      "image/png": "[encoded data removed]",
      "text/plain": [
       "<Figure size 432x288 with 2 Axes>"
      ]
     },
     "metadata": {
      "needs_background": "light"
     },
     "output_type": "display_data"
    }
   ],
   "source": [
    "from sklearn.metrics import confusion_matrix\n",
    "import seaborn as sns\n",
    "import matplotlib.pyplot as plt\n",
    "\n",
    "sns.heatmap(confusion_matrix(y_test,y_predict),annot=True)\n",
    "plt.show()"
   ]
  },
  {
   "cell_type": "code",
   "execution_count": 51,
   "id": "e88880ce",
   "metadata": {},
   "outputs": [
    {
     "name": "stdout",
     "output_type": "stream",
     "text": [
      "precision=0.7954545454545454\n",
      "recall=0.6363636363636364\n",
      "f1=0.7070707070707071\n",
      "accuracy=0.8116883116883117\n"
     ]
    }
   ],
   "source": [
    "from sklearn.metrics import precision_score, recall_score, f1_score, accuracy_score\n",
    "precision = precision_score(y_test, y_predict)\n",
    "recall = recall_score(y_test, y_predict)\n",
    "f1 = f1_score(y_test, y_predict)\n",
    "accuracy = accuracy_score(y_test, y_predict)\n",
    "print(f\"{precision=}\\n{recall=}\\n{f1=}\\n{accuracy=}\")"
   ]
  },
  {
   "cell_type": "code",
   "execution_count": 52,
   "id": "7db9d7ac",
   "metadata": {},
   "outputs": [
    {
     "data": {
      "image/png": "[encoded data removed]",
      "text/plain": [
       "<Figure size 720x432 with 1 Axes>"
      ]
     },
     "metadata": {
      "needs_background": "light"
     },
     "output_type": "display_data"
    }
   ],
   "source": [
    "f1 = []\n",
    "for k in range(1,25):\n",
    "    knn = KNeighborsClassifier(n_neighbors=k) # k-ni qiymati\n",
    "    knn.fit(X_train, y_train)\n",
    "    y_predict = knn.predict(X_test)\n",
    "    f1.append(f1_score(y_test, y_predict))\n",
    "\n",
    "plt.figure(figsize=(10,6))\n",
    "plt.plot(range(1,25),f1)\n",
    "plt.xticks(range(1,25))\n",
    "plt.grid()\n",
    "plt.show()"
   ]
  },
  {
   "cell_type": "code",
   "execution_count": 53,
   "id": "628f21a7",
   "metadata": {},
   "outputs": [
    {
     "name": "stdout",
     "output_type": "stream",
     "text": [
      "              precision    recall  f1-score   support\n",
      "\n",
      "           0       0.83      0.92      0.87        99\n",
      "           1       0.82      0.65      0.73        55\n",
      "\n",
      "    accuracy                           0.82       154\n",
      "   macro avg       0.82      0.79      0.80       154\n",
      "weighted avg       0.82      0.82      0.82       154\n",
      "\n"
     ]
    }
   ],
   "source": [
    "from sklearn.metrics import classification_report\n",
    "print(classification_report(y_test, y_predict))"
   ]
  },
  {
   "cell_type": "code",
   "execution_count": 54,
   "id": "7f845ce1",
   "metadata": {},
   "outputs": [
    {
     "name": "stdout",
     "output_type": "stream",
     "text": [
      "Classification Report: \n",
      "               precision    recall  f1-score   support\n",
      "\n",
      "           0       0.78      0.88      0.83       500\n",
      "           1       0.70      0.54      0.61       268\n",
      "\n",
      "    accuracy                           0.76       768\n",
      "   macro avg       0.74      0.71      0.72       768\n",
      "weighted avg       0.75      0.76      0.75       768\n",
      "\n"
     ]
    }
   ],
   "source": [
    "from sklearn.model_selection import cross_val_predict\n",
    "predict = cross_val_predict(estimator = knn, X = X, y = y, cv = 7)\n",
    "\n",
    "from sklearn.metrics import classification_report\n",
    "print(\"Classification Report: \\n\",classification_report(y, predict))"
   ]
  },
  {
   "cell_type": "code",
   "execution_count": 55,
   "id": "953963bc",
   "metadata": {},
   "outputs": [
    {
     "data": {
      "text/plain": [
       "GridSearchCV(cv=7, estimator=KNeighborsClassifier(n_neighbors=24),\n",
       "             param_grid={'n_neighbors': array([ 1,  2,  3,  4,  5,  6,  7,  8,  9, 10, 11, 12, 13, 14, 15, 16, 17,\n",
       "       18, 19, 20, 21, 22, 23, 24])})"
      ]
     },
     "execution_count": 55,
     "metadata": {},
     "output_type": "execute_result"
    }
   ],
   "source": [
    "from sklearn.model_selection import GridSearchCV\n",
    "param_grid = {'n_neighbors': np.arange(1, 25)}\n",
    "knn_gscv = GridSearchCV(knn, param_grid, cv=7)\n",
    "\n",
    "knn_gscv.fit(X, y)"
   ]
  },
  {
   "cell_type": "code",
   "execution_count": 56,
   "id": "3f55fc1d",
   "metadata": {},
   "outputs": [
    {
     "data": {
      "text/plain": [
       "array([23, 24, 22, 21, 17, 20, 18, 14, 15, 19, 10, 12, 16, 13,  9,  8,  6,\n",
       "        4,  2,  3,  1,  5,  7, 10])"
      ]
     },
     "execution_count": 56,
     "metadata": {},
     "output_type": "execute_result"
    }
   ],
   "source": [
    "knn_gscv.cv_results_['rank_test_score']"
   ]
  },
  {
   "cell_type": "code",
   "execution_count": 57,
   "id": "48b46e87",
   "metadata": {},
   "outputs": [
    {
     "data": {
      "text/plain": [
       "{'n_neighbors': 21}"
      ]
     },
     "execution_count": 57,
     "metadata": {},
     "output_type": "execute_result"
    }
   ],
   "source": [
    "knn_gscv.best_params_"
   ]
  },
  {
   "cell_type": "code",
   "execution_count": 58,
   "id": "89fe031d",
   "metadata": {},
   "outputs": [
    {
     "data": {
      "text/plain": [
       "{'mean_fit_time': array([0.00114734, 0.00114243, 0.        , 0.        , 0.        ,\n",
       "        0.        , 0.        , 0.        , 0.        , 0.        ,\n",
       "        0.        , 0.        , 0.        , 0.        , 0.00223238,\n",
       "        0.        , 0.        , 0.        , 0.        , 0.        ,\n",
       "        0.00447369, 0.00112748, 0.00017677, 0.        ]),\n",
       " 'std_fit_time': array([0.00281039, 0.00279838, 0.        , 0.        , 0.        ,\n",
       "        0.        , 0.        , 0.        , 0.        , 0.        ,\n",
       "        0.        , 0.        , 0.        , 0.        , 0.0054682 ,\n",
       "        0.        , 0.        , 0.        , 0.        , 0.        ,\n",
       "        0.00707354, 0.00276175, 0.000433  , 0.        ]),\n",
       " 'mean_score_time': array([0.00130524, 0.00343619, 0.00247897, 0.0044714 , 0.00223262,\n",
       "        0.00223225, 0.00223187, 0.00446374, 0.00223197, 0.00224492,\n",
       "        0.00223102, 0.00223184, 0.0045557 , 0.00223327, 0.00223248,\n",
       "        0.        , 0.00446371, 0.00223204, 0.00446371, 0.0022319 ,\n",
       "        0.        , 0.00257887, 0.00343616, 0.0013081 ]),\n",
       " 'std_score_time': array([0.00207235, 0.00584429, 0.00393652, 0.00706993, 0.00546878,\n",
       "        0.00546786, 0.00546694, 0.00705779, 0.00546719, 0.0054989 ,\n",
       "        0.00546486, 0.00546686, 0.00720524, 0.00547036, 0.00546845,\n",
       "        0.        , 0.00705774, 0.00546736, 0.00705774, 0.00546703,\n",
       "        0.        , 0.00539066, 0.00396776, 0.00320418]),\n",
       " 'param_n_neighbors': masked_array(data=[1, 2, 3, 4, 5, 6, 7, 8, 9, 10, 11, 12, 13, 14, 15, 16,\n",
       "                    17, 18, 19, 20, 21, 22, 23, 24],\n",
       "              mask=[False, False, False, False, False, False, False, False,\n",
       "                    False, False, False, False, False, False, False, False,\n",
       "                    False, False, False, False, False, False, False, False],\n",
       "        fill_value='?',\n",
       "             dtype=object),\n",
       " 'params': [{'n_neighbors': 1},\n",
       "  {'n_neighbors': 2},\n",
       "  {'n_neighbors': 3},\n",
       "  {'n_neighbors': 4},\n",
       "  {'n_neighbors': 5},\n",
       "  {'n_neighbors': 6},\n",
       "  {'n_neighbors': 7},\n",
       "  {'n_neighbors': 8},\n",
       "  {'n_neighbors': 9},\n",
       "  {'n_neighbors': 10},\n",
       "  {'n_neighbors': 11},\n",
       "  {'n_neighbors': 12},\n",
       "  {'n_neighbors': 13},\n",
       "  {'n_neighbors': 14},\n",
       "  {'n_neighbors': 15},\n",
       "  {'n_neighbors': 16},\n",
       "  {'n_neighbors': 17},\n",
       "  {'n_neighbors': 18},\n",
       "  {'n_neighbors': 19},\n",
       "  {'n_neighbors': 20},\n",
       "  {'n_neighbors': 21},\n",
       "  {'n_neighbors': 22},\n",
       "  {'n_neighbors': 23},\n",
       "  {'n_neighbors': 24}],\n",
       " 'split0_test_score': array([0.73636364, 0.75454545, 0.76363636, 0.71818182, 0.71818182,\n",
       "        0.73636364, 0.73636364, 0.75454545, 0.76363636, 0.75454545,\n",
       "        0.75454545, 0.74545455, 0.73636364, 0.72727273, 0.71818182,\n",
       "        0.73636364, 0.73636364, 0.75454545, 0.75454545, 0.72727273,\n",
       "        0.74545455, 0.75454545, 0.74545455, 0.74545455]),\n",
       " 'split1_test_score': array([0.64545455, 0.73636364, 0.7       , 0.72727273, 0.76363636,\n",
       "        0.75454545, 0.76363636, 0.78181818, 0.77272727, 0.76363636,\n",
       "        0.77272727, 0.79090909, 0.79090909, 0.80909091, 0.79090909,\n",
       "        0.78181818, 0.77272727, 0.78181818, 0.80909091, 0.79090909,\n",
       "        0.8       , 0.79090909, 0.8       , 0.8       ]),\n",
       " 'split2_test_score': array([0.65454545, 0.65454545, 0.66363636, 0.67272727, 0.65454545,\n",
       "        0.64545455, 0.66363636, 0.66363636, 0.62727273, 0.63636364,\n",
       "        0.64545455, 0.63636364, 0.64545455, 0.65454545, 0.64545455,\n",
       "        0.64545455, 0.65454545, 0.65454545, 0.64545455, 0.66363636,\n",
       "        0.65454545, 0.66363636, 0.64545455, 0.65454545]),\n",
       " 'split3_test_score': array([0.79090909, 0.71818182, 0.77272727, 0.75454545, 0.79090909,\n",
       "        0.79090909, 0.8       , 0.78181818, 0.80909091, 0.8       ,\n",
       "        0.80909091, 0.81818182, 0.77272727, 0.8       , 0.8       ,\n",
       "        0.80909091, 0.8       , 0.81818182, 0.81818182, 0.82727273,\n",
       "        0.81818182, 0.79090909, 0.80909091, 0.79090909]),\n",
       " 'split4_test_score': array([0.7       , 0.70909091, 0.69090909, 0.70909091, 0.74545455,\n",
       "        0.73636364, 0.72727273, 0.72727273, 0.75454545, 0.75454545,\n",
       "        0.74545455, 0.74545455, 0.76363636, 0.74545455, 0.76363636,\n",
       "        0.74545455, 0.77272727, 0.77272727, 0.77272727, 0.76363636,\n",
       "        0.76363636, 0.76363636, 0.74545455, 0.73636364]),\n",
       " 'split5_test_score': array([0.78899083, 0.72477064, 0.79816514, 0.81651376, 0.8440367 ,\n",
       "        0.8440367 , 0.82568807, 0.8440367 , 0.80733945, 0.79816514,\n",
       "        0.81651376, 0.81651376, 0.79816514, 0.79816514, 0.79816514,\n",
       "        0.81651376, 0.81651376, 0.81651376, 0.82568807, 0.82568807,\n",
       "        0.83486239, 0.83486239, 0.83486239, 0.81651376]),\n",
       " 'split6_test_score': array([0.67889908, 0.69724771, 0.73394495, 0.74311927, 0.74311927,\n",
       "        0.73394495, 0.73394495, 0.73394495, 0.75229358, 0.74311927,\n",
       "        0.77981651, 0.7706422 , 0.7706422 , 0.77981651, 0.80733945,\n",
       "        0.79816514, 0.80733945, 0.80733945, 0.79816514, 0.80733945,\n",
       "        0.80733945, 0.79816514, 0.77981651, 0.77981651]),\n",
       " 'mean_test_score': array([0.71359466, 0.71353509, 0.73185988, 0.73449303, 0.75141189,\n",
       "        0.74880257, 0.75007745, 0.75529608, 0.75527225, 0.75005362,\n",
       "        0.76051471, 0.7605028 , 0.75398546, 0.75919218, 0.76052663,\n",
       "        0.76183725, 0.76574526, 0.77223877, 0.77483617, 0.77225069,\n",
       "        0.77486   , 0.77095198, 0.76573335, 0.76051471]),\n",
       " 'std_test_score': array([0.05567637, 0.02955776, 0.04539838, 0.04137352, 0.05461609,\n",
       "        0.05617129, 0.04903864, 0.05199586, 0.05653742, 0.0507201 ,\n",
       "        0.05280494, 0.05776168, 0.04799781, 0.05107128, 0.05494631,\n",
       "        0.0552961 , 0.05183363, 0.05286083, 0.05774099, 0.05523538,\n",
       "        0.05685852, 0.04994426, 0.05771938, 0.0507528 ]),\n",
       " 'rank_test_score': array([23, 24, 22, 21, 17, 20, 18, 14, 15, 19, 10, 12, 16, 13,  9,  8,  6,\n",
       "         4,  2,  3,  1,  5,  7, 10])}"
      ]
     },
     "execution_count": 58,
     "metadata": {},
     "output_type": "execute_result"
    }
   ],
   "source": [
    "knn_gscv.cv_results_"
   ]
  },
  {
   "cell_type": "code",
   "execution_count": 59,
   "id": "3d86a617",
   "metadata": {},
   "outputs": [
    {
     "data": {
      "text/plain": [
       "0.7748600023829381"
      ]
     },
     "execution_count": 59,
     "metadata": {},
     "output_type": "execute_result"
    }
   ],
   "source": [
    "knn_gscv.best_score_"
   ]
  },
  {
   "cell_type": "code",
   "execution_count": 60,
   "id": "b819e2ea",
   "metadata": {},
   "outputs": [
    {
     "data": {
      "image/png": "[encoded data removed]",
      "text/plain": [
       "<Figure size 720x432 with 1 Axes>"
      ]
     },
     "metadata": {
      "needs_background": "light"
     },
     "output_type": "display_data"
    }
   ],
   "source": [
    "plt.figure(figsize=(10,6))\n",
    "plt.plot(param_grid['n_neighbors'], knn_gscv.cv_results_['rank_test_score'])\n",
    "plt.xticks(param_grid['n_neighbors'])\n",
    "plt.xlabel(\"k\")\n",
    "plt.ylabel(\"Xatolik reytingi\")\n",
    "plt.grid()\n",
    "plt.show()"
   ]
  },
  {
   "cell_type": "code",
   "execution_count": null,
   "id": "cd21d3e3",
   "metadata": {},
   "outputs": [],
   "source": []
  },
  {
   "cell_type": "code",
   "execution_count": null,
   "id": "7cdf2515",
   "metadata": {},
   "outputs": [],
   "source": []
  }
 ],
 "metadata": {
  "kernelspec": {
   "display_name": "Python 3 (ipykernel)",
   "language": "python",
   "name": "python3"
  },
  "language_info": {
   "codemirror_mode": {
    "name": "ipython",
    "version": 3
   },
   "file_extension": ".py",
   "mimetype": "text/x-python",
   "name": "python",
   "nbconvert_exporter": "python",
   "pygments_lexer": "ipython3",
   "version": "3.9.7"
  }
 },
 "nbformat": 4,
 "nbformat_minor": 5
}
